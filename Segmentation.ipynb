{
  "nbformat": 4,
  "nbformat_minor": 0,
  "metadata": {
    "colab": {
      "provenance": []
    },
    "kernelspec": {
      "name": "python3",
      "display_name": "Python 3"
    },
    "language_info": {
      "name": "python"
    }
  },
  "cells": [
    {
      "cell_type": "code",
      "execution_count": null,
      "metadata": {
        "id": "XBKZUOED7fd6"
      },
      "outputs": [],
      "source": [
        "S1=\"This is a sentence.This is second sentence.This is last sentence.\"\n",
        "S2=\"This is a sentence;This is a second sentence; This is last sentence.\""
      ]
    },
    {
      "cell_type": "code",
      "source": [
        "import  spacy\n",
        "NLP=spacy.load(name='en_core_web_sm')"
      ],
      "metadata": {
        "id": "yt-DWJLb79eS"
      },
      "execution_count": null,
      "outputs": []
    },
    {
      "cell_type": "code",
      "source": [
        "doc1=NLP(S1)"
      ],
      "metadata": {
        "id": "EanRq3S78fsI"
      },
      "execution_count": null,
      "outputs": []
    },
    {
      "cell_type": "code",
      "source": [
        "for sent in doc1.sents:\n",
        "  print(sent)"
      ],
      "metadata": {
        "colab": {
          "base_uri": "https://localhost:8080/"
        },
        "id": "9cwnkg438plH",
        "outputId": "13179184-e253-4cad-a2de-a10e912b91d6"
      },
      "execution_count": null,
      "outputs": [
        {
          "output_type": "stream",
          "name": "stdout",
          "text": [
            "This is a sentence.\n",
            "This is second sentence.\n",
            "This is last sentence.\n"
          ]
        }
      ]
    },
    {
      "cell_type": "code",
      "source": [],
      "metadata": {
        "id": "I3EaNKNv8_mB"
      },
      "execution_count": null,
      "outputs": []
    },
    {
      "cell_type": "code",
      "source": [
        "doc2=NLP(S2)"
      ],
      "metadata": {
        "id": "GzHNfhTV87Lx"
      },
      "execution_count": null,
      "outputs": []
    },
    {
      "cell_type": "code",
      "source": [
        "for sent in doc2.sents:\n",
        "  print(sent)"
      ],
      "metadata": {
        "colab": {
          "base_uri": "https://localhost:8080/"
        },
        "id": "J-aBWXqm9AZT",
        "outputId": "ec7b1928-8bb2-470c-dd82-860b0d18c953"
      },
      "execution_count": null,
      "outputs": [
        {
          "output_type": "stream",
          "name": "stdout",
          "text": [
            "This is a sentence;This is a second sentence; This is last sentence.\n"
          ]
        }
      ]
    },
    {
      "cell_type": "code",
      "source": [
        "from spacy.language import Language\n",
        "@Language.component(\"set_custom_bounderies\")\n",
        "def set_custom_bounderies(doc):\n",
        "  for token in doc[:-1]:\n",
        "    if token.text== ';':\n",
        "      print(token.i)\n",
        "      doc[token.i+1].is_sent_start=True\n",
        "    return doc"
      ],
      "metadata": {
        "id": "_vZyZuVh9jIq"
      },
      "execution_count": null,
      "outputs": []
    },
    {
      "cell_type": "code",
      "source": [
        "NLP.pipe_names"
      ],
      "metadata": {
        "colab": {
          "base_uri": "https://localhost:8080/"
        },
        "id": "THthzbt8-6KI",
        "outputId": "7f870ea6-e1af-4851-db17-9c8c80d65d4a"
      },
      "execution_count": null,
      "outputs": [
        {
          "output_type": "execute_result",
          "data": {
            "text/plain": [
              "['tok2vec',\n",
              " 'tagger',\n",
              " 'component',\n",
              " 'parser',\n",
              " 'attribute_ruler',\n",
              " 'lemmatizer',\n",
              " 'ner']"
            ]
          },
          "metadata": {},
          "execution_count": 35
        }
      ]
    },
    {
      "cell_type": "code",
      "source": [
        "NLP.add_pipe('set_custom_bounderies',before='parser')"
      ],
      "metadata": {
        "colab": {
          "base_uri": "https://localhost:8080/"
        },
        "id": "5EMpPqcr_TF4",
        "outputId": "31e7225c-2afd-41cc-cae8-edbbfa11abdf"
      },
      "execution_count": null,
      "outputs": [
        {
          "output_type": "execute_result",
          "data": {
            "text/plain": [
              "<function __main__.set_custom_bounderies(doc)>"
            ]
          },
          "metadata": {},
          "execution_count": 36
        }
      ]
    },
    {
      "cell_type": "code",
      "source": [
        "NLP.pipe_names"
      ],
      "metadata": {
        "colab": {
          "base_uri": "https://localhost:8080/"
        },
        "id": "-qlHANguBs04",
        "outputId": "dc2d317b-681b-414a-b652-b3f02af9590b"
      },
      "execution_count": null,
      "outputs": [
        {
          "output_type": "execute_result",
          "data": {
            "text/plain": [
              "['tok2vec',\n",
              " 'tagger',\n",
              " 'component',\n",
              " 'set_custom_bounderies',\n",
              " 'parser',\n",
              " 'attribute_ruler',\n",
              " 'lemmatizer',\n",
              " 'ner']"
            ]
          },
          "metadata": {},
          "execution_count": 37
        }
      ]
    },
    {
      "cell_type": "code",
      "source": [
        "doc3=NLP(S2)\n",
        "for i in doc3.sents:\n",
        "  print(i.text)"
      ],
      "metadata": {
        "colab": {
          "base_uri": "https://localhost:8080/"
        },
        "id": "GvttvpBKA_Zi",
        "outputId": "29fbbfb8-437f-45c2-89af-943095361e6e"
      },
      "execution_count": null,
      "outputs": [
        {
          "output_type": "stream",
          "name": "stdout",
          "text": [
            "This is a sentence;This is a second sentence; This is last sentence.\n"
          ]
        }
      ]
    }
  ]
}